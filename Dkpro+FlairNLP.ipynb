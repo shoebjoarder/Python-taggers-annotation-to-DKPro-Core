{
 "cells": [
  {
   "cell_type": "code",
   "execution_count": 1,
   "metadata": {},
   "outputs": [
    {
     "name": "stderr",
     "output_type": "stream",
     "text": [
      "/home/allan/snap/jupyter/common/lib/python3.7/site-packages/joblib/_multiprocessing_helpers.py:45: UserWarning: [Errno 13] Permission denied.  joblib will operate in serial mode\n",
      "  warnings.warn('%s.  joblib will operate in serial mode' % (e,))\n"
     ]
    }
   ],
   "source": [
    "# Import libraries\n",
    "from flair.data import Sentence\n",
    "from flair.models import SequenceTagger\n",
    "from cassis import *"
   ]
  },
  {
   "cell_type": "code",
   "execution_count": 2,
   "metadata": {},
   "outputs": [
    {
     "name": "stdout",
     "output_type": "stream",
     "text": [
      "Note: you may need to restart the kernel to use updated packages.\n"
     ]
    }
   ],
   "source": [
    "pip freeze > requirements.txt"
   ]
  },
  {
   "cell_type": "code",
   "execution_count": 3,
   "metadata": {},
   "outputs": [],
   "source": [
    "tsfile = 'ts1.xml'\n",
    "csfile = './output1.xmi/document.txt.xmi'\n",
    "\n",
    "TOKEN_TYPE = \"de.tudarmstadt.ukp.dkpro.core.api.segmentation.type.Token\"\n",
    "SENTENCE_TYPE = \"de.tudarmstadt.ukp.dkpro.core.api.segmentation.type.Sentence\"\n",
    "\n",
    "# Load Typesystem\n",
    "with open(tsfile, 'rb') as f:\n",
    "    typesystem = load_typesystem(f)\n",
    "\n",
    "# Load Cas\n",
    "with open(csfile, 'rb') as f:\n",
    "    cas = load_cas_from_xmi(f, typesystem=typesystem)"
   ]
  },
  {
   "cell_type": "code",
   "execution_count": 4,
   "metadata": {},
   "outputs": [],
   "source": []
  },
  {
   "cell_type": "code",
   "execution_count": 5,
   "metadata": {
    "scrolled": true
   },
   "outputs": [
    {
     "name": "stderr",
     "output_type": "stream",
     "text": [
      "/snap/jupyter/6/lib/python3.7/site-packages/ipykernel_launcher.py:2: DeprecatedWarning: get_covered_text is deprecated. Use annotation.get_covered_text()\n",
      "  \n"
     ]
    }
   ],
   "source": [
    "tokens = list(cas.select(TOKEN_TYPE))\n",
    "words = [cas.get_covered_text(token) for token in tokens]\n",
    "# tokens"
   ]
  },
  {
   "cell_type": "code",
   "execution_count": 6,
   "metadata": {
    "scrolled": false
   },
   "outputs": [
    {
     "name": "stdout",
     "output_type": "stream",
     "text": [
      "2020-06-16 16:25:20,709 loading file /home/allan/snap/jupyter/6/.flair/models/en-ner-conll03-v0.4.pt\n"
     ]
    },
    {
     "data": {
      "text/plain": [
       "[Sentence: \"Courtney de Souza has been living with her daughter Susan in Berlin for about 6 years .\"   [− Tokens: 17  − Token-Labels: \"Courtney <B-PER> de <I-PER> Souza <E-PER> has been living with her daughter Susan <S-PER> in Berlin <S-LOC> for about 6 years .\"]]"
      ]
     },
     "execution_count": 6,
     "metadata": {},
     "output_type": "execute_result"
    }
   ],
   "source": [
    "sentence = ''\n",
    "for word in words:\n",
    "    sentence += word + ' '\n",
    "\n",
    "sentence = Sentence(sentence)\n",
    "model_name = 'ner'\n",
    "nlp = SequenceTagger.load(model_name)\n",
    "\n",
    "nlp.predict(sentence)"
   ]
  },
  {
   "cell_type": "code",
   "execution_count": 7,
   "metadata": {},
   "outputs": [],
   "source": [
    "# Get annotation type\n",
    "AnnotationType = typesystem.get_type(TOKEN_TYPE)\n",
    "NERType = typesystem.get_type(\"de.tudarmstadt.ukp.dkpro.core.api.ner.type.NamedEntity\")"
   ]
  },
  {
   "cell_type": "code",
   "execution_count": 8,
   "metadata": {},
   "outputs": [],
   "source": [
    "i = 0\n",
    "for span in sentence.get_spans('ner'):\n",
    "    cas_sentence = AnnotationType(begin = span.start_pos, \n",
    "                                  end = span.end_pos)\n",
    "    if sentence.get_spans('ner')[i].tag == 'PER':\n",
    "        val = 'person'\n",
    "    if sentence.get_spans('ner')[i].tag == 'LOC':\n",
    "        val = 'location'\n",
    "    ner_annotation = NERType(begin = span.start_pos,\n",
    "                             end = span.end_pos,\n",
    "                             value = val)\n",
    "    cas.add_annotation(cas_sentence)\n",
    "    cas.add_annotation(ner_annotation)\n",
    "    i=i+1\n",
    "xmi = cas.to_xmi('./output2.xmi', pretty_print=True)"
   ]
  }
 ],
 "metadata": {
  "kernelspec": {
   "display_name": "Python 3",
   "language": "python",
   "name": "python3"
  },
  "language_info": {
   "codemirror_mode": {
    "name": "ipython",
    "version": 3
   },
   "file_extension": ".py",
   "mimetype": "text/x-python",
   "name": "python",
   "nbconvert_exporter": "python",
   "pygments_lexer": "ipython3",
   "version": "3.7.3"
  }
 },
 "nbformat": 4,
 "nbformat_minor": 4
}
