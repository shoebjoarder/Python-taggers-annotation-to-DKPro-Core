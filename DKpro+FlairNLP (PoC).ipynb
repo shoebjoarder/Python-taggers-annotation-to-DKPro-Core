{
 "cells": [
  {
   "cell_type": "code",
   "execution_count": 1,
   "metadata": {},
   "outputs": [
    {
     "name": "stderr",
     "output_type": "stream",
     "text": [
      "/home/allan/snap/jupyter/common/lib/python3.7/site-packages/joblib/_multiprocessing_helpers.py:45: UserWarning: [Errno 13] Permission denied.  joblib will operate in serial mode\n",
      "  warnings.warn('%s.  joblib will operate in serial mode' % (e,))\n"
     ]
    }
   ],
   "source": [
    "# Import libraries\n",
    "from flair.data import Sentence\n",
    "from flair.models import SequenceTagger\n",
    "from cassis import *"
   ]
  },
  {
   "cell_type": "markdown",
   "metadata": {},
   "source": [
    "## Import cas and typesystem\n",
    "\n",
    "> These two files are generated from the Dkpro using OpenNLPSegmenter"
   ]
  },
  {
   "cell_type": "code",
   "execution_count": 2,
   "metadata": {},
   "outputs": [],
   "source": [
    "tsfile = 'ts1.xml'\n",
    "csfile = './output1.xmi/document.txt.xmi'\n",
    "\n",
    "TOKEN_TYPE = \"de.tudarmstadt.ukp.dkpro.core.api.segmentation.type.Token\"\n",
    "SENTENCE_TYPE = \"de.tudarmstadt.ukp.dkpro.core.api.segmentation.type.Sentence\"\n",
    "\n",
    "# Load Typesystem\n",
    "with open(tsfile, 'rb') as f:\n",
    "    typesystem = load_typesystem(f)\n",
    "\n",
    "# Load Cas\n",
    "with open(csfile, 'rb') as f:\n",
    "    cas = load_cas_from_xmi(f, typesystem=typesystem)"
   ]
  },
  {
   "cell_type": "code",
   "execution_count": 3,
   "metadata": {
    "scrolled": true
   },
   "outputs": [
    {
     "name": "stderr",
     "output_type": "stream",
     "text": [
      "/snap/jupyter/6/lib/python3.7/site-packages/ipykernel_launcher.py:2: DeprecatedWarning: get_covered_text is deprecated. Use annotation.get_covered_text()\n",
      "  \n"
     ]
    },
    {
     "data": {
      "text/plain": [
       "[de_tudarmstadt_ukp_dkpro_core_api_segmentation_type_Token(xmiID=4, parent=None, lemma=None, stem=None, pos=None, morph=None, id=None, form=None, syntacticFunction=None, begin=0, end=8, type='de.tudarmstadt.ukp.dkpro.core.api.segmentation.type.Token'),\n",
       " de_tudarmstadt_ukp_dkpro_core_api_segmentation_type_Token(xmiID=5, parent=None, lemma=None, stem=None, pos=None, morph=None, id=None, form=None, syntacticFunction=None, begin=9, end=11, type='de.tudarmstadt.ukp.dkpro.core.api.segmentation.type.Token'),\n",
       " de_tudarmstadt_ukp_dkpro_core_api_segmentation_type_Token(xmiID=6, parent=None, lemma=None, stem=None, pos=None, morph=None, id=None, form=None, syntacticFunction=None, begin=12, end=17, type='de.tudarmstadt.ukp.dkpro.core.api.segmentation.type.Token'),\n",
       " de_tudarmstadt_ukp_dkpro_core_api_segmentation_type_Token(xmiID=7, parent=None, lemma=None, stem=None, pos=None, morph=None, id=None, form=None, syntacticFunction=None, begin=18, end=21, type='de.tudarmstadt.ukp.dkpro.core.api.segmentation.type.Token'),\n",
       " de_tudarmstadt_ukp_dkpro_core_api_segmentation_type_Token(xmiID=8, parent=None, lemma=None, stem=None, pos=None, morph=None, id=None, form=None, syntacticFunction=None, begin=22, end=26, type='de.tudarmstadt.ukp.dkpro.core.api.segmentation.type.Token'),\n",
       " de_tudarmstadt_ukp_dkpro_core_api_segmentation_type_Token(xmiID=9, parent=None, lemma=None, stem=None, pos=None, morph=None, id=None, form=None, syntacticFunction=None, begin=27, end=33, type='de.tudarmstadt.ukp.dkpro.core.api.segmentation.type.Token'),\n",
       " de_tudarmstadt_ukp_dkpro_core_api_segmentation_type_Token(xmiID=10, parent=None, lemma=None, stem=None, pos=None, morph=None, id=None, form=None, syntacticFunction=None, begin=34, end=38, type='de.tudarmstadt.ukp.dkpro.core.api.segmentation.type.Token'),\n",
       " de_tudarmstadt_ukp_dkpro_core_api_segmentation_type_Token(xmiID=11, parent=None, lemma=None, stem=None, pos=None, morph=None, id=None, form=None, syntacticFunction=None, begin=39, end=42, type='de.tudarmstadt.ukp.dkpro.core.api.segmentation.type.Token'),\n",
       " de_tudarmstadt_ukp_dkpro_core_api_segmentation_type_Token(xmiID=12, parent=None, lemma=None, stem=None, pos=None, morph=None, id=None, form=None, syntacticFunction=None, begin=43, end=51, type='de.tudarmstadt.ukp.dkpro.core.api.segmentation.type.Token'),\n",
       " de_tudarmstadt_ukp_dkpro_core_api_segmentation_type_Token(xmiID=13, parent=None, lemma=None, stem=None, pos=None, morph=None, id=None, form=None, syntacticFunction=None, begin=52, end=57, type='de.tudarmstadt.ukp.dkpro.core.api.segmentation.type.Token'),\n",
       " de_tudarmstadt_ukp_dkpro_core_api_segmentation_type_Token(xmiID=14, parent=None, lemma=None, stem=None, pos=None, morph=None, id=None, form=None, syntacticFunction=None, begin=58, end=60, type='de.tudarmstadt.ukp.dkpro.core.api.segmentation.type.Token'),\n",
       " de_tudarmstadt_ukp_dkpro_core_api_segmentation_type_Token(xmiID=15, parent=None, lemma=None, stem=None, pos=None, morph=None, id=None, form=None, syntacticFunction=None, begin=61, end=67, type='de.tudarmstadt.ukp.dkpro.core.api.segmentation.type.Token'),\n",
       " de_tudarmstadt_ukp_dkpro_core_api_segmentation_type_Token(xmiID=16, parent=None, lemma=None, stem=None, pos=None, morph=None, id=None, form=None, syntacticFunction=None, begin=68, end=71, type='de.tudarmstadt.ukp.dkpro.core.api.segmentation.type.Token'),\n",
       " de_tudarmstadt_ukp_dkpro_core_api_segmentation_type_Token(xmiID=17, parent=None, lemma=None, stem=None, pos=None, morph=None, id=None, form=None, syntacticFunction=None, begin=72, end=77, type='de.tudarmstadt.ukp.dkpro.core.api.segmentation.type.Token'),\n",
       " de_tudarmstadt_ukp_dkpro_core_api_segmentation_type_Token(xmiID=18, parent=None, lemma=None, stem=None, pos=None, morph=None, id=None, form=None, syntacticFunction=None, begin=78, end=79, type='de.tudarmstadt.ukp.dkpro.core.api.segmentation.type.Token'),\n",
       " de_tudarmstadt_ukp_dkpro_core_api_segmentation_type_Token(xmiID=19, parent=None, lemma=None, stem=None, pos=None, morph=None, id=None, form=None, syntacticFunction=None, begin=80, end=85, type='de.tudarmstadt.ukp.dkpro.core.api.segmentation.type.Token'),\n",
       " de_tudarmstadt_ukp_dkpro_core_api_segmentation_type_Token(xmiID=20, parent=None, lemma=None, stem=None, pos=None, morph=None, id=None, form=None, syntacticFunction=None, begin=86, end=87, type='de.tudarmstadt.ukp.dkpro.core.api.segmentation.type.Token')]"
      ]
     },
     "execution_count": 3,
     "metadata": {},
     "output_type": "execute_result"
    }
   ],
   "source": [
    "tokens = list(cas.select(TOKEN_TYPE))\n",
    "words = [cas.get_covered_text(token) for token in tokens]\n",
    "tokens"
   ]
  },
  {
   "cell_type": "code",
   "execution_count": 4,
   "metadata": {},
   "outputs": [
    {
     "name": "stdout",
     "output_type": "stream",
     "text": [
      "Courtney de Souza has been living with her daughter Susan in Berlin for about 6 years .\n"
     ]
    }
   ],
   "source": [
    "print(cas.sofa_string)"
   ]
  },
  {
   "cell_type": "markdown",
   "metadata": {},
   "source": [
    "## Implementation of FlairNLP Named Entity Recognition on the sofa_string generated from the cas"
   ]
  },
  {
   "cell_type": "code",
   "execution_count": 5,
   "metadata": {},
   "outputs": [
    {
     "name": "stdout",
     "output_type": "stream",
     "text": [
      "2020-06-17 17:06:19,731 loading file /home/allan/snap/jupyter/6/.flair/models/en-ner-conll03-v0.4.pt\n"
     ]
    },
    {
     "data": {
      "text/plain": [
       "[Sentence: \"Courtney de Souza has been living with her daughter Susan in Berlin for about 6 years .\"   [− Tokens: 17  − Token-Labels: \"Courtney <B-PER> de <I-PER> Souza <E-PER> has been living with her daughter Susan <S-PER> in Berlin <S-LOC> for about 6 years .\"]]"
      ]
     },
     "execution_count": 5,
     "metadata": {},
     "output_type": "execute_result"
    }
   ],
   "source": [
    "model_name = 'ner'\n",
    "sentence = Sentence(cas.sofa_string)\n",
    "\n",
    "nlp = SequenceTagger.load(model_name)\n",
    "nlp.predict(sentence)"
   ]
  },
  {
   "cell_type": "code",
   "execution_count": 6,
   "metadata": {},
   "outputs": [],
   "source": [
    "# Get annotation type\n",
    "AnnotationType = typesystem.get_type(TOKEN_TYPE)\n",
    "NERType = typesystem.get_type(\"de.tudarmstadt.ukp.dkpro.core.api.ner.type.NamedEntity\")"
   ]
  },
  {
   "cell_type": "code",
   "execution_count": 7,
   "metadata": {},
   "outputs": [],
   "source": [
    "i = 0\n",
    "for span in sentence.get_spans('ner'):\n",
    "    cas_sentence = AnnotationType(begin = span.start_pos, \n",
    "                                  end = span.end_pos)\n",
    "    if sentence.get_spans('ner')[i].tag == 'PER':\n",
    "        val = 'person'\n",
    "    if sentence.get_spans('ner')[i].tag == 'LOC':\n",
    "        val = 'location'\n",
    "    ner_annotation = NERType(begin = span.start_pos,\n",
    "                             end = span.end_pos,\n",
    "                             value = val)\n",
    "    cas.add_annotation(cas_sentence)\n",
    "    cas.add_annotation(ner_annotation)\n",
    "    i=i+1\n",
    "xmi = cas.to_xmi('./output2.xmi', pretty_print=True)"
   ]
  },
  {
   "cell_type": "code",
   "execution_count": 8,
   "metadata": {
    "scrolled": true
   },
   "outputs": [],
   "source": [
    "csfile = './output2.xmi'\n",
    "# Load Cas\n",
    "with open(csfile, 'rb') as f:\n",
    "    cas = load_cas_from_xmi(f, typesystem=typesystem)"
   ]
  },
  {
   "cell_type": "code",
   "execution_count": 9,
   "metadata": {},
   "outputs": [
    {
     "name": "stderr",
     "output_type": "stream",
     "text": [
      "/snap/jupyter/6/lib/python3.7/site-packages/ipykernel_launcher.py:2: DeprecatedWarning: get_covered_text is deprecated. Use annotation.get_covered_text()\n",
      "  \n"
     ]
    },
    {
     "data": {
      "text/plain": [
       "[de_tudarmstadt_ukp_dkpro_core_api_ner_type_NamedEntity(xmiID=22, value='person', identifier=None, begin=0, end=17, type='de.tudarmstadt.ukp.dkpro.core.api.ner.type.NamedEntity'),\n",
       " de_tudarmstadt_ukp_dkpro_core_api_ner_type_NamedEntity(xmiID=24, value='person', identifier=None, begin=52, end=57, type='de.tudarmstadt.ukp.dkpro.core.api.ner.type.NamedEntity'),\n",
       " de_tudarmstadt_ukp_dkpro_core_api_ner_type_NamedEntity(xmiID=26, value='location', identifier=None, begin=61, end=67, type='de.tudarmstadt.ukp.dkpro.core.api.ner.type.NamedEntity')]"
      ]
     },
     "execution_count": 9,
     "metadata": {},
     "output_type": "execute_result"
    }
   ],
   "source": [
    "tokens = list(cas.select(\"de.tudarmstadt.ukp.dkpro.core.api.ner.type.NamedEntity\"))\n",
    "words = [cas.get_covered_text(token) for token in tokens]\n",
    "tokens"
   ]
  },
  {
   "cell_type": "markdown",
   "metadata": {},
   "source": [
    "## Import the new cas\n",
    "\n",
    "> This file is generated from the DKPro-Cassis which has FlairNLP NER annotations"
   ]
  },
  {
   "cell_type": "code",
   "execution_count": 13,
   "metadata": {},
   "outputs": [],
   "source": [
    "tsfile = 'ts3.xml'\n",
    "csfile = './output3.xmi/document.txt.xmi'\n",
    "\n",
    "POS = \"de.tudarmstadt.ukp.dkpro.core.opennlp.OpenNlpPosTagger\"\n",
    "SENTENCE_TYPE = \"de.tudarmstadt.ukp.dkpro.core.api.segmentation.type.Sentence\"\n",
    "\n",
    "# Load Typesystem\n",
    "with open(tsfile, 'rb') as f:\n",
    "    typesystem = load_typesystem(f)\n",
    "\n",
    "# Load Cas\n",
    "with open(csfile, 'rb') as f:\n",
    "    cas = load_cas_from_xmi(f, typesystem=typesystem)"
   ]
  },
  {
   "cell_type": "code",
   "execution_count": 14,
   "metadata": {
    "scrolled": true
   },
   "outputs": [
    {
     "ename": "Exception",
     "evalue": "Type with name [de.tudarmstadt.ukp.dkpro.core.opennlp.OpenNlpPosTagger] not found!",
     "output_type": "error",
     "traceback": [
      "\u001b[0;31m---------------------------------------------------------------------------\u001b[0m",
      "\u001b[0;31mException\u001b[0m                                 Traceback (most recent call last)",
      "\u001b[0;32m<ipython-input-14-71bd0e4a6159>\u001b[0m in \u001b[0;36m<module>\u001b[0;34m\u001b[0m\n\u001b[0;32m----> 1\u001b[0;31m \u001b[0mtokens\u001b[0m \u001b[0;34m=\u001b[0m \u001b[0mlist\u001b[0m\u001b[0;34m(\u001b[0m\u001b[0mcas\u001b[0m\u001b[0;34m.\u001b[0m\u001b[0mselect\u001b[0m\u001b[0;34m(\u001b[0m\u001b[0mPOS\u001b[0m\u001b[0;34m)\u001b[0m\u001b[0;34m)\u001b[0m\u001b[0;34m\u001b[0m\u001b[0;34m\u001b[0m\u001b[0m\n\u001b[0m\u001b[1;32m      2\u001b[0m \u001b[0mwords\u001b[0m \u001b[0;34m=\u001b[0m \u001b[0;34m[\u001b[0m\u001b[0mcas\u001b[0m\u001b[0;34m.\u001b[0m\u001b[0mget_covered_text\u001b[0m\u001b[0;34m(\u001b[0m\u001b[0mtoken\u001b[0m\u001b[0;34m)\u001b[0m \u001b[0;32mfor\u001b[0m \u001b[0mtoken\u001b[0m \u001b[0;32min\u001b[0m \u001b[0mtokens\u001b[0m\u001b[0;34m]\u001b[0m\u001b[0;34m\u001b[0m\u001b[0;34m\u001b[0m\u001b[0m\n\u001b[1;32m      3\u001b[0m \u001b[0mtokens\u001b[0m\u001b[0;34m\u001b[0m\u001b[0;34m\u001b[0m\u001b[0m\n",
      "\u001b[0;32m/home/allan/snap/jupyter/common/lib/python3.7/site-packages/cassis/cas.py\u001b[0m in \u001b[0;36mselect\u001b[0;34m(self, type_name)\u001b[0m\n\u001b[1;32m    229\u001b[0m \u001b[0;34m\u001b[0m\u001b[0m\n\u001b[1;32m    230\u001b[0m         \"\"\"\n\u001b[0;32m--> 231\u001b[0;31m         \u001b[0;32mfor\u001b[0m \u001b[0mannotation\u001b[0m \u001b[0;32min\u001b[0m \u001b[0mself\u001b[0m\u001b[0;34m.\u001b[0m\u001b[0m_get_feature_structures\u001b[0m\u001b[0;34m(\u001b[0m\u001b[0mtype_name\u001b[0m\u001b[0;34m)\u001b[0m\u001b[0;34m:\u001b[0m\u001b[0;34m\u001b[0m\u001b[0;34m\u001b[0m\u001b[0m\n\u001b[0m\u001b[1;32m    232\u001b[0m             \u001b[0;32myield\u001b[0m \u001b[0mannotation\u001b[0m\u001b[0;34m\u001b[0m\u001b[0;34m\u001b[0m\u001b[0m\n\u001b[1;32m    233\u001b[0m \u001b[0;34m\u001b[0m\u001b[0m\n",
      "\u001b[0;32m/home/allan/snap/jupyter/common/lib/python3.7/site-packages/cassis/cas.py\u001b[0m in \u001b[0;36m_get_feature_structures\u001b[0;34m(self, type_name)\u001b[0m\n\u001b[1;32m    293\u001b[0m     \u001b[0;32mdef\u001b[0m \u001b[0m_get_feature_structures\u001b[0m\u001b[0;34m(\u001b[0m\u001b[0mself\u001b[0m\u001b[0;34m,\u001b[0m \u001b[0mtype_name\u001b[0m\u001b[0;34m)\u001b[0m \u001b[0;34m->\u001b[0m \u001b[0mIterator\u001b[0m\u001b[0;34m[\u001b[0m\u001b[0mFeatureStructure\u001b[0m\u001b[0;34m]\u001b[0m\u001b[0;34m:\u001b[0m\u001b[0;34m\u001b[0m\u001b[0;34m\u001b[0m\u001b[0m\n\u001b[1;32m    294\u001b[0m         \u001b[0;34m\"\"\" Returns an iterator over all feature structures of type `type_name` and child types. \"\"\"\u001b[0m\u001b[0;34m\u001b[0m\u001b[0;34m\u001b[0m\u001b[0m\n\u001b[0;32m--> 295\u001b[0;31m         \u001b[0mt\u001b[0m \u001b[0;34m=\u001b[0m \u001b[0mself\u001b[0m\u001b[0;34m.\u001b[0m\u001b[0m_typesystem\u001b[0m\u001b[0;34m.\u001b[0m\u001b[0mget_type\u001b[0m\u001b[0;34m(\u001b[0m\u001b[0mtype_name\u001b[0m\u001b[0;34m)\u001b[0m\u001b[0;34m\u001b[0m\u001b[0;34m\u001b[0m\u001b[0m\n\u001b[0m\u001b[1;32m    296\u001b[0m         \u001b[0mtypes\u001b[0m \u001b[0;34m=\u001b[0m \u001b[0;34m{\u001b[0m\u001b[0mc\u001b[0m\u001b[0;34m.\u001b[0m\u001b[0mname\u001b[0m \u001b[0;32mfor\u001b[0m \u001b[0mc\u001b[0m \u001b[0;32min\u001b[0m \u001b[0mt\u001b[0m\u001b[0;34m.\u001b[0m\u001b[0mchildren\u001b[0m\u001b[0;34m}\u001b[0m\u001b[0;34m\u001b[0m\u001b[0;34m\u001b[0m\u001b[0m\n\u001b[1;32m    297\u001b[0m         \u001b[0mtypes\u001b[0m\u001b[0;34m.\u001b[0m\u001b[0madd\u001b[0m\u001b[0;34m(\u001b[0m\u001b[0mtype_name\u001b[0m\u001b[0;34m)\u001b[0m\u001b[0;34m\u001b[0m\u001b[0;34m\u001b[0m\u001b[0m\n",
      "\u001b[0;32m/home/allan/snap/jupyter/common/lib/python3.7/site-packages/cassis/typesystem.py\u001b[0m in \u001b[0;36mget_type\u001b[0;34m(self, type_name)\u001b[0m\n\u001b[1;32m    453\u001b[0m             \u001b[0;32mreturn\u001b[0m \u001b[0mself\u001b[0m\u001b[0;34m.\u001b[0m\u001b[0m_types\u001b[0m\u001b[0;34m[\u001b[0m\u001b[0mtype_name\u001b[0m\u001b[0;34m]\u001b[0m\u001b[0;34m\u001b[0m\u001b[0;34m\u001b[0m\u001b[0m\n\u001b[1;32m    454\u001b[0m         \u001b[0;32melse\u001b[0m\u001b[0;34m:\u001b[0m\u001b[0;34m\u001b[0m\u001b[0;34m\u001b[0m\u001b[0m\n\u001b[0;32m--> 455\u001b[0;31m             \u001b[0;32mraise\u001b[0m \u001b[0mException\u001b[0m\u001b[0;34m(\u001b[0m\u001b[0;34m\"Type with name [{0}] not found!\"\u001b[0m\u001b[0;34m.\u001b[0m\u001b[0mformat\u001b[0m\u001b[0;34m(\u001b[0m\u001b[0mtype_name\u001b[0m\u001b[0;34m)\u001b[0m\u001b[0;34m)\u001b[0m\u001b[0;34m\u001b[0m\u001b[0;34m\u001b[0m\u001b[0m\n\u001b[0m\u001b[1;32m    456\u001b[0m \u001b[0;34m\u001b[0m\u001b[0m\n\u001b[1;32m    457\u001b[0m     \u001b[0;32mdef\u001b[0m \u001b[0mget_types\u001b[0m\u001b[0;34m(\u001b[0m\u001b[0mself\u001b[0m\u001b[0;34m)\u001b[0m \u001b[0;34m->\u001b[0m \u001b[0mIterator\u001b[0m\u001b[0;34m[\u001b[0m\u001b[0mType\u001b[0m\u001b[0;34m]\u001b[0m\u001b[0;34m:\u001b[0m\u001b[0;34m\u001b[0m\u001b[0;34m\u001b[0m\u001b[0m\n",
      "\u001b[0;31mException\u001b[0m: Type with name [de.tudarmstadt.ukp.dkpro.core.opennlp.OpenNlpPosTagger] not found!"
     ]
    }
   ],
   "source": [
    "tokens = list(cas.select(POS))\n",
    "words = [cas.get_covered_text(token) for token in tokens]\n",
    "tokens"
   ]
  },
  {
   "cell_type": "code",
   "execution_count": null,
   "metadata": {},
   "outputs": [],
   "source": []
  }
 ],
 "metadata": {
  "kernelspec": {
   "display_name": "Python 3",
   "language": "python",
   "name": "python3"
  },
  "language_info": {
   "codemirror_mode": {
    "name": "ipython",
    "version": 3
   },
   "file_extension": ".py",
   "mimetype": "text/x-python",
   "name": "python",
   "nbconvert_exporter": "python",
   "pygments_lexer": "ipython3",
   "version": "3.7.3"
  }
 },
 "nbformat": 4,
 "nbformat_minor": 2
}
