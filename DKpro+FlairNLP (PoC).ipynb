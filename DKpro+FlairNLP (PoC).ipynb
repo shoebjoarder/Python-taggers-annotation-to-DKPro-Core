{
 "cells": [
  {
   "cell_type": "code",
   "execution_count": 1,
   "metadata": {},
   "outputs": [
    {
     "name": "stderr",
     "output_type": "stream",
     "text": [
      "/home/allan/snap/jupyter/common/lib/python3.7/site-packages/joblib/_multiprocessing_helpers.py:45: UserWarning: [Errno 13] Permission denied.  joblib will operate in serial mode\n",
      "  warnings.warn('%s.  joblib will operate in serial mode' % (e,))\n"
     ]
    }
   ],
   "source": [
    "# Import libraries\n",
    "from flair.data import Sentence\n",
    "from flair.models import SequenceTagger\n",
    "from cassis import *"
   ]
  },
  {
   "cell_type": "markdown",
   "metadata": {},
   "source": [
    "## Import cas and typesystem\n",
    "\n",
    "These two files are generated from the Dkpro using OpenNLPSegmenter"
   ]
  },
  {
   "cell_type": "code",
   "execution_count": 3,
   "metadata": {},
   "outputs": [],
   "source": [
    "tsfile = 'TypeSystem.xml'\n",
    "csfile = 'OpenNlpSegmenter.xmi'\n",
    "\n",
    "TOKEN_TYPE = \"de.tudarmstadt.ukp.dkpro.core.api.segmentation.type.Token\"\n",
    "SENTENCE_TYPE = \"de.tudarmstadt.ukp.dkpro.core.api.segmentation.type.Sentence\"\n",
    "\n",
    "# Load Typesystem\n",
    "with open(tsfile, 'rb') as f:\n",
    "    typesystem = load_typesystem(f)\n",
    "\n",
    "# Load Cas\n",
    "with open(csfile, 'rb') as f:\n",
    "    cas = load_cas_from_xmi(f, typesystem=typesystem)"
   ]
  },
  {
   "cell_type": "code",
   "execution_count": 4,
   "metadata": {
    "scrolled": true
   },
   "outputs": [
    {
     "name": "stderr",
     "output_type": "stream",
     "text": [
      "/snap/jupyter/6/lib/python3.7/site-packages/ipykernel_launcher.py:2: DeprecatedWarning: get_covered_text is deprecated. Use annotation.get_covered_text()\n",
      "  \n"
     ]
    },
    {
     "data": {
      "text/plain": [
       "[de_tudarmstadt_ukp_dkpro_core_api_segmentation_type_Token(xmiID=12, parent=None, lemma=None, stem=None, pos=None, morph=None, id=None, form=None, syntacticFunction=None, begin=0, end=5, type='de.tudarmstadt.ukp.dkpro.core.api.segmentation.type.Token'),\n",
       " de_tudarmstadt_ukp_dkpro_core_api_segmentation_type_Token(xmiID=13, parent=None, lemma=None, stem=None, pos=None, morph=None, id=None, form=None, syntacticFunction=None, begin=6, end=9, type='de.tudarmstadt.ukp.dkpro.core.api.segmentation.type.Token'),\n",
       " de_tudarmstadt_ukp_dkpro_core_api_segmentation_type_Token(xmiID=14, parent=None, lemma=None, stem=None, pos=None, morph=None, id=None, form=None, syntacticFunction=None, begin=10, end=14, type='de.tudarmstadt.ukp.dkpro.core.api.segmentation.type.Token')]"
      ]
     },
     "execution_count": 4,
     "metadata": {},
     "output_type": "execute_result"
    }
   ],
   "source": [
    "tokens = list(cas.select(TOKEN_TYPE))\n",
    "words = [cas.get_covered_text(token) for token in tokens]\n",
    "tokens[:3]"
   ]
  },
  {
   "cell_type": "code",
   "execution_count": 5,
   "metadata": {},
   "outputs": [
    {
     "name": "stdout",
     "output_type": "stream",
     "text": [
      "Obama was born in Honolulu, Hawaii, making him the first president not born in North America .\n",
      "After graduating from Columbia University in 1983, he worked as a community organizer in Chicago .\n",
      "In 1988, he enrolled in Harvard Law School, where he was the first black person to head the Harvard Law Review .\n",
      "After graduating, he became a civil rights attorney and an academic, teaching constitutional law at the University of Chicago Law School from 1992 to 2004 .\n",
      "Turning to elective politics, he represented the 13th district from 1997 until 2004 in the Illinois Senate, when he ran for the U.S. Senate. Obama received national attention in 2004 with his March Senate primary win, his well-received July Democratic National Convention keynote address, and his landslide November election to the Senate .\n",
      "In 2008, he was nominated for president a year after his presidential campaign began, and after close primary campaigns against Hillary Clinton .\n",
      "Obama was elected over Republican John McCain and was inaugurated alongside Joe Biden on January 20, 2009 .\n",
      "Nine months later, he was named the 2009 Nobel Peace Prize laureate .\n",
      "\n"
     ]
    }
   ],
   "source": [
    "print(cas.sofa_string)"
   ]
  },
  {
   "cell_type": "markdown",
   "metadata": {},
   "source": [
    "## Implementation of FlairNLP Named Entity Recognition on the sofa_string generated from the cas"
   ]
  },
  {
   "cell_type": "code",
   "execution_count": 6,
   "metadata": {
    "scrolled": true
   },
   "outputs": [
    {
     "name": "stdout",
     "output_type": "stream",
     "text": [
      "2020-06-18 23:48:32,516 loading file /home/allan/snap/jupyter/6/.flair/models/en-ner-conll03-v0.4.pt\n"
     ]
    },
    {
     "data": {
      "text/plain": [
       "[Sentence: \"Obama was born in Honolulu, Hawaii, making him the first president not born in North America .\n",
       " After graduating from Columbia University in 1983, he worked as a community organizer in Chicago .\n",
       " In 1988, he enrolled in Harvard Law School, where he was the first black person to head the Harvard Law Review .\n",
       " After graduating, he became a civil rights attorney and an academic, teaching constitutional law at the University of Chicago Law School from 1992 to 2004 .\n",
       " Turning to elective politics, he represented the 13th district from 1997 until 2004 in the Illinois Senate, when he ran for the U.S. Senate. Obama received national attention in 2004 with his March Senate primary win, his well-received July Democratic National Convention keynote address, and his landslide November election to the Senate .\n",
       " In 2008, he was nominated for president a year after his presidential campaign began, and after close primary campaigns against Hillary Clinton .\n",
       " Obama was elected over Republican John McCain and was inaugurated alongside Joe Biden on January 20, 2009 .\n",
       " Nine months later, he was named the 2009 Nobel Peace Prize laureate .\n",
       " \"   [− Tokens: 181  − Token-Labels: \"Obama <S-PER> was born in Honolulu, <B-LOC> Hawaii, <E-LOC> making him the first president not born in North <B-LOC> America <E-LOC> .\n",
       " After graduating from Columbia <B-ORG> University <E-ORG> in 1983, he worked as a community organizer in Chicago <S-LOC> .\n",
       " In 1988, he enrolled in Harvard <B-LOC> Law <I-LOC> School, <E-LOC> where he was the first black person to head the Harvard <B-ORG> Law <I-ORG> Review <E-ORG> .\n",
       " After graduating, he became a civil rights attorney and an academic, teaching constitutional law at the University <B-ORG> of <I-ORG> Chicago <I-ORG> Law <I-ORG> School <E-ORG> from 1992 to 2004 .\n",
       " Turning to elective politics, he represented the 13th district from 1997 until 2004 in the Illinois <B-LOC> Senate, <E-LOC> when he ran for the U.S. <S-LOC> Senate. Obama <S-PER> received national attention in 2004 with his March Senate <S-ORG> primary win, his well-received July Democratic <B-MISC> National <I-MISC> Convention <E-MISC> keynote address, and his landslide November election to the Senate <S-ORG> .\n",
       " In 2008, he was nominated for president a year after his presidential campaign began, and after close primary campaigns against Hillary <B-PER> Clinton <E-PER> .\n",
       " Obama was elected over Republican <S-MISC> John <B-PER> McCain <E-PER> and was inaugurated alongside Joe <B-PER> Biden <E-PER> on January 20, 2009 .\n",
       " Nine months later, he was named the 2009 Nobel <B-MISC> Peace <I-MISC> Prize <E-MISC> laureate .\n",
       " \"]]"
      ]
     },
     "execution_count": 6,
     "metadata": {},
     "output_type": "execute_result"
    }
   ],
   "source": [
    "model_name = 'ner'\n",
    "sentence = Sentence(cas.sofa_string)\n",
    "\n",
    "nlp = SequenceTagger.load(model_name)\n",
    "nlp.predict(sentence)"
   ]
  },
  {
   "cell_type": "code",
   "execution_count": 7,
   "metadata": {},
   "outputs": [
    {
     "name": "stdout",
     "output_type": "stream",
     "text": [
      "The following NER tags are found:\n",
      "Span [1]: \"Obama\"   [− Labels: PER (0.9999)]\n",
      "Span [5,6]: \"Honolulu, Hawaii,\"   [− Labels: LOC (0.9612)]\n",
      "Span [15,16]: \"North America\"   [− Labels: LOC (0.9993)]\n",
      "Span [20,21]: \"Columbia University\"   [− Labels: ORG (0.9741)]\n",
      "Span [31]: \"Chicago\"   [− Labels: LOC (1.0)]\n",
      "Span [37,38,39]: \"Harvard Law School,\"   [− Labels: LOC (0.8647)]\n",
      "Span [50,51,52]: \"Harvard Law Review\"   [− Labels: ORG (0.9719)]\n",
      "Span [69,70,71,72,73]: \"University of Chicago Law School\"   [− Labels: ORG (0.8778)]\n",
      "Span [93,94]: \"Illinois Senate,\"   [− Labels: LOC (0.6874)]\n",
      "Span [100]: \"U.S.\"   [− Labels: LOC (0.9976)]\n",
      "Span [102]: \"Obama\"   [− Labels: PER (0.9999)]\n",
      "Span [111]: \"Senate\"   [− Labels: ORG (1.0)]\n",
      "Span [117,118,119]: \"Democratic National Convention\"   [− Labels: MISC (0.8716)]\n",
      "Span [129]: \"Senate\"   [− Labels: ORG (1.0)]\n",
      "Span [150,151]: \"Hillary Clinton\"   [− Labels: PER (0.9871)]\n",
      "Span [156]: \"Republican\"   [− Labels: MISC (1.0)]\n",
      "Span [157,158]: \"John McCain\"   [− Labels: PER (0.9913)]\n",
      "Span [163,164]: \"Joe Biden\"   [− Labels: PER (0.9993)]\n",
      "Span [177,178,179]: \"Nobel Peace Prize\"   [− Labels: MISC (0.9944)]\n"
     ]
    }
   ],
   "source": [
    "print('The following NER tags are found:')\n",
    "\n",
    "for entity in sentence.get_spans('ner'):\n",
    "    print(entity)"
   ]
  },
  {
   "cell_type": "code",
   "execution_count": 8,
   "metadata": {},
   "outputs": [],
   "source": [
    "# Get annotation type\n",
    "AnnotationType = typesystem.get_type(TOKEN_TYPE)\n",
    "NERType = typesystem.get_type(\"de.tudarmstadt.ukp.dkpro.core.api.ner.type.NamedEntity\")"
   ]
  },
  {
   "cell_type": "code",
   "execution_count": 9,
   "metadata": {},
   "outputs": [],
   "source": [
    "i = 0\n",
    "for span in sentence.get_spans('ner'):\n",
    "    cas_sentence = AnnotationType(begin = span.start_pos, \n",
    "                                  end = span.end_pos)\n",
    "    if span.tag == 'PER':\n",
    "        val = 'person'\n",
    "    if span.tag == 'LOC':\n",
    "        val = 'location'\n",
    "    if span.tag == 'ORG':\n",
    "        val = \"organization\"\n",
    "    if span.tag == 'MISC':\n",
    "        val = \"miscellaneous\"\n",
    "    ner_annotation = NERType(begin = span.start_pos,\n",
    "                             end = span.end_pos,\n",
    "                             value = val)\n",
    "    cas.add_annotation(cas_sentence)\n",
    "    cas.add_annotation(ner_annotation)\n",
    "    i=i+1\n",
    "xmi = cas.to_xmi('./flairNLP.xmi', pretty_print=True)"
   ]
  },
  {
   "cell_type": "code",
   "execution_count": 10,
   "metadata": {
    "scrolled": true
   },
   "outputs": [],
   "source": [
    "csfile = 'flairNLP.xmi'\n",
    "# Load Cas\n",
    "with open(csfile, 'rb') as f:\n",
    "    cas = load_cas_from_xmi(f, typesystem=typesystem)"
   ]
  },
  {
   "cell_type": "code",
   "execution_count": 11,
   "metadata": {},
   "outputs": [
    {
     "name": "stderr",
     "output_type": "stream",
     "text": [
      "/snap/jupyter/6/lib/python3.7/site-packages/ipykernel_launcher.py:2: DeprecatedWarning: get_covered_text is deprecated. Use annotation.get_covered_text()\n",
      "  \n"
     ]
    },
    {
     "data": {
      "text/plain": [
       "[de_tudarmstadt_ukp_dkpro_core_api_ner_type_NamedEntity(xmiID=217, value='person', identifier=None, begin=0, end=5, type='de.tudarmstadt.ukp.dkpro.core.api.ner.type.NamedEntity'),\n",
       " de_tudarmstadt_ukp_dkpro_core_api_ner_type_NamedEntity(xmiID=219, value='location', identifier=None, begin=18, end=35, type='de.tudarmstadt.ukp.dkpro.core.api.ner.type.NamedEntity'),\n",
       " de_tudarmstadt_ukp_dkpro_core_api_ner_type_NamedEntity(xmiID=221, value='location', identifier=None, begin=79, end=92, type='de.tudarmstadt.ukp.dkpro.core.api.ner.type.NamedEntity'),\n",
       " de_tudarmstadt_ukp_dkpro_core_api_ner_type_NamedEntity(xmiID=223, value='organization', identifier=None, begin=117, end=136, type='de.tudarmstadt.ukp.dkpro.core.api.ner.type.NamedEntity')]"
      ]
     },
     "execution_count": 11,
     "metadata": {},
     "output_type": "execute_result"
    }
   ],
   "source": [
    "tokens = list(cas.select(\"de.tudarmstadt.ukp.dkpro.core.api.ner.type.NamedEntity\"))\n",
    "words = [cas.get_covered_text(token) for token in tokens]\n",
    "tokens[:4]"
   ]
  },
  {
   "cell_type": "markdown",
   "metadata": {},
   "source": [
    "## Import the new cas\n",
    "\n",
    "This file is generated from the DKPro-Cassis which has FlairNLP NER annotations"
   ]
  },
  {
   "cell_type": "code",
   "execution_count": 12,
   "metadata": {},
   "outputs": [],
   "source": [
    "csfile = 'OpenNlpPosTagger.xmi'\n",
    "PosTagger = \"de.tudarmstadt.ukp.dkpro.core.api.lexmorph.type.pos.POS\"\n",
    "\n",
    "# Load Cas\n",
    "with open(csfile, 'rb') as f:\n",
    "    cas = load_cas_from_xmi(f, typesystem=typesystem)"
   ]
  },
  {
   "cell_type": "code",
   "execution_count": 13,
   "metadata": {
    "scrolled": true
   },
   "outputs": [
    {
     "name": "stderr",
     "output_type": "stream",
     "text": [
      "/snap/jupyter/6/lib/python3.7/site-packages/ipykernel_launcher.py:2: DeprecatedWarning: get_covered_text is deprecated. Use annotation.get_covered_text()\n",
      "  \n"
     ]
    },
    {
     "data": {
      "text/plain": [
       "[de_tudarmstadt_ukp_dkpro_core_api_lexmorph_type_pos_POS_ADP(xmiID=527, begin=15, end=17, PosValue='IN', coarseValue='ADP', type='de.tudarmstadt.ukp.dkpro.core.api.lexmorph.type.pos.POS_ADP'),\n",
       " de_tudarmstadt_ukp_dkpro_core_api_lexmorph_type_pos_POS_ADP(xmiID=540, begin=76, end=78, PosValue='IN', coarseValue='ADP', type='de.tudarmstadt.ukp.dkpro.core.api.lexmorph.type.pos.POS_ADP'),\n",
       " de_tudarmstadt_ukp_dkpro_core_api_lexmorph_type_pos_POS_ADP(xmiID=545, begin=95, end=100, PosValue='IN', coarseValue='ADP', type='de.tudarmstadt.ukp.dkpro.core.api.lexmorph.type.pos.POS_ADP'),\n",
       " de_tudarmstadt_ukp_dkpro_core_api_lexmorph_type_pos_POS_ADP(xmiID=547, begin=112, end=116, PosValue='IN', coarseValue='ADP', type='de.tudarmstadt.ukp.dkpro.core.api.lexmorph.type.pos.POS_ADP')]"
      ]
     },
     "execution_count": 13,
     "metadata": {},
     "output_type": "execute_result"
    }
   ],
   "source": [
    "tokens = list(cas.select(PosTagger))\n",
    "words = [cas.get_covered_text(token) for token in tokens]\n",
    "tokens[:4]"
   ]
  },
  {
   "cell_type": "code",
   "execution_count": null,
   "metadata": {},
   "outputs": [],
   "source": []
  }
 ],
 "metadata": {
  "kernelspec": {
   "display_name": "Python 3",
   "language": "python",
   "name": "python3"
  },
  "language_info": {
   "codemirror_mode": {
    "name": "ipython",
    "version": 3
   },
   "file_extension": ".py",
   "mimetype": "text/x-python",
   "name": "python",
   "nbconvert_exporter": "python",
   "pygments_lexer": "ipython3",
   "version": "3.7.3"
  }
 },
 "nbformat": 4,
 "nbformat_minor": 2
}
