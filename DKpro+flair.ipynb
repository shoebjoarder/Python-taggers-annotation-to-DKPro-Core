{
 "cells": [
  {
   "cell_type": "code",
   "execution_count": 1,
   "metadata": {},
   "outputs": [
    {
     "name": "stderr",
     "output_type": "stream",
     "text": [
      "/home/allan/snap/jupyter/common/lib/python3.7/site-packages/joblib/_multiprocessing_helpers.py:45: UserWarning: [Errno 13] Permission denied.  joblib will operate in serial mode\n",
      "  warnings.warn('%s.  joblib will operate in serial mode' % (e,))\n"
     ]
    }
   ],
   "source": [
    "# Import libraries\n",
    "from flair.data import Sentence\n",
    "from flair.models import SequenceTagger\n",
    "from cassis import *"
   ]
  },
  {
   "cell_type": "code",
   "execution_count": 2,
   "metadata": {},
   "outputs": [],
   "source": [
    "tsfile = 'ts.xml'\n",
    "csfile = './out.xml/document.txt.xmi'\n",
    "\n",
    "TOKEN_TYPE = \"de.tudarmstadt.ukp.dkpro.core.api.segmentation.type.Token\"\n",
    "SENTENCE_TYPE = \"de.tudarmstadt.ukp.dkpro.core.api.segmentation.type.Sentence\"\n",
    "\n",
    "# Load Typesystem\n",
    "with open(tsfile, 'rb') as f:\n",
    "    typesystem = load_typesystem(f)\n",
    "\n",
    "# Load Cas\n",
    "with open(csfile, 'rb') as f:\n",
    "    cas = load_cas_from_xmi(f, typesystem=typesystem)"
   ]
  },
  {
   "cell_type": "code",
   "execution_count": 3,
   "metadata": {},
   "outputs": [],
   "source": [
    "# Get annotation type\n",
    "AnnotationType = typesystem.get_type(TOKEN_TYPE)"
   ]
  },
  {
   "cell_type": "code",
   "execution_count": 4,
   "metadata": {
    "scrolled": true
   },
   "outputs": [
    {
     "name": "stderr",
     "output_type": "stream",
     "text": [
      "/snap/jupyter/6/lib/python3.7/site-packages/ipykernel_launcher.py:2: DeprecatedWarning: get_covered_text is deprecated. Use annotation.get_covered_text()\n",
      "  \n"
     ]
    },
    {
     "data": {
      "text/plain": [
       "[de_tudarmstadt_ukp_dkpro_core_api_segmentation_type_Token(xmiID=4, parent=None, lemma=None, stem=None, pos=de_tudarmstadt_ukp_dkpro_core_api_lexmorph_type_pos_POS_PROPN(xmiID=85, begin=0, end=8, PosValue='NNP', coarseValue='PROPN', type='de.tudarmstadt.ukp.dkpro.core.api.lexmorph.type.pos.POS_PROPN'), morph=None, id=None, form=None, syntacticFunction=None, begin=0, end=8, type='de.tudarmstadt.ukp.dkpro.core.api.segmentation.type.Token'),\n",
       " de_tudarmstadt_ukp_dkpro_core_api_segmentation_type_Token(xmiID=5, parent=None, lemma=None, stem=None, pos=de_tudarmstadt_ukp_dkpro_core_api_lexmorph_type_pos_POS_X(xmiID=86, begin=9, end=11, PosValue='FW', coarseValue='X', type='de.tudarmstadt.ukp.dkpro.core.api.lexmorph.type.pos.POS_X'), morph=None, id=None, form=None, syntacticFunction=None, begin=9, end=11, type='de.tudarmstadt.ukp.dkpro.core.api.segmentation.type.Token'),\n",
       " de_tudarmstadt_ukp_dkpro_core_api_segmentation_type_Token(xmiID=6, parent=None, lemma=None, stem=None, pos=de_tudarmstadt_ukp_dkpro_core_api_lexmorph_type_pos_POS_PROPN(xmiID=87, begin=12, end=17, PosValue='NNP', coarseValue='PROPN', type='de.tudarmstadt.ukp.dkpro.core.api.lexmorph.type.pos.POS_PROPN'), morph=None, id=None, form=None, syntacticFunction=None, begin=12, end=17, type='de.tudarmstadt.ukp.dkpro.core.api.segmentation.type.Token'),\n",
       " de_tudarmstadt_ukp_dkpro_core_api_segmentation_type_Token(xmiID=7, parent=None, lemma=None, stem=None, pos=de_tudarmstadt_ukp_dkpro_core_api_lexmorph_type_pos_POS_VERB(xmiID=88, begin=18, end=21, PosValue='VBZ', coarseValue='VERB', type='de.tudarmstadt.ukp.dkpro.core.api.lexmorph.type.pos.POS_VERB'), morph=None, id=None, form=None, syntacticFunction=None, begin=18, end=21, type='de.tudarmstadt.ukp.dkpro.core.api.segmentation.type.Token'),\n",
       " de_tudarmstadt_ukp_dkpro_core_api_segmentation_type_Token(xmiID=8, parent=None, lemma=None, stem=None, pos=de_tudarmstadt_ukp_dkpro_core_api_lexmorph_type_pos_POS_VERB(xmiID=89, begin=22, end=26, PosValue='VBN', coarseValue='VERB', type='de.tudarmstadt.ukp.dkpro.core.api.lexmorph.type.pos.POS_VERB'), morph=None, id=None, form=None, syntacticFunction=None, begin=22, end=26, type='de.tudarmstadt.ukp.dkpro.core.api.segmentation.type.Token'),\n",
       " de_tudarmstadt_ukp_dkpro_core_api_segmentation_type_Token(xmiID=9, parent=None, lemma=None, stem=None, pos=de_tudarmstadt_ukp_dkpro_core_api_lexmorph_type_pos_POS_VERB(xmiID=90, begin=27, end=33, PosValue='VBG', coarseValue='VERB', type='de.tudarmstadt.ukp.dkpro.core.api.lexmorph.type.pos.POS_VERB'), morph=None, id=None, form=None, syntacticFunction=None, begin=27, end=33, type='de.tudarmstadt.ukp.dkpro.core.api.segmentation.type.Token'),\n",
       " de_tudarmstadt_ukp_dkpro_core_api_segmentation_type_Token(xmiID=10, parent=None, lemma=None, stem=None, pos=de_tudarmstadt_ukp_dkpro_core_api_lexmorph_type_pos_POS_ADP(xmiID=91, begin=34, end=38, PosValue='IN', coarseValue='ADP', type='de.tudarmstadt.ukp.dkpro.core.api.lexmorph.type.pos.POS_ADP'), morph=None, id=None, form=None, syntacticFunction=None, begin=34, end=38, type='de.tudarmstadt.ukp.dkpro.core.api.segmentation.type.Token'),\n",
       " de_tudarmstadt_ukp_dkpro_core_api_segmentation_type_Token(xmiID=11, parent=None, lemma=None, stem=None, pos=de_tudarmstadt_ukp_dkpro_core_api_lexmorph_type_pos_POS_PRON(xmiID=92, begin=39, end=42, PosValue='PRP$', coarseValue='PRON', type='de.tudarmstadt.ukp.dkpro.core.api.lexmorph.type.pos.POS_PRON'), morph=None, id=None, form=None, syntacticFunction=None, begin=39, end=42, type='de.tudarmstadt.ukp.dkpro.core.api.segmentation.type.Token'),\n",
       " de_tudarmstadt_ukp_dkpro_core_api_segmentation_type_Token(xmiID=12, parent=None, lemma=None, stem=None, pos=de_tudarmstadt_ukp_dkpro_core_api_lexmorph_type_pos_POS_NOUN(xmiID=93, begin=43, end=51, PosValue='NN', coarseValue='NOUN', type='de.tudarmstadt.ukp.dkpro.core.api.lexmorph.type.pos.POS_NOUN'), morph=None, id=None, form=None, syntacticFunction=None, begin=43, end=51, type='de.tudarmstadt.ukp.dkpro.core.api.segmentation.type.Token'),\n",
       " de_tudarmstadt_ukp_dkpro_core_api_segmentation_type_Token(xmiID=13, parent=None, lemma=None, stem=None, pos=de_tudarmstadt_ukp_dkpro_core_api_lexmorph_type_pos_POS_PROPN(xmiID=94, begin=52, end=57, PosValue='NNP', coarseValue='PROPN', type='de.tudarmstadt.ukp.dkpro.core.api.lexmorph.type.pos.POS_PROPN'), morph=None, id=None, form=None, syntacticFunction=None, begin=52, end=57, type='de.tudarmstadt.ukp.dkpro.core.api.segmentation.type.Token'),\n",
       " de_tudarmstadt_ukp_dkpro_core_api_segmentation_type_Token(xmiID=14, parent=None, lemma=None, stem=None, pos=de_tudarmstadt_ukp_dkpro_core_api_lexmorph_type_pos_POS_ADP(xmiID=95, begin=58, end=60, PosValue='IN', coarseValue='ADP', type='de.tudarmstadt.ukp.dkpro.core.api.lexmorph.type.pos.POS_ADP'), morph=None, id=None, form=None, syntacticFunction=None, begin=58, end=60, type='de.tudarmstadt.ukp.dkpro.core.api.segmentation.type.Token'),\n",
       " de_tudarmstadt_ukp_dkpro_core_api_segmentation_type_Token(xmiID=15, parent=None, lemma=None, stem=None, pos=de_tudarmstadt_ukp_dkpro_core_api_lexmorph_type_pos_POS_PROPN(xmiID=96, begin=61, end=67, PosValue='NNP', coarseValue='PROPN', type='de.tudarmstadt.ukp.dkpro.core.api.lexmorph.type.pos.POS_PROPN'), morph=None, id=None, form=None, syntacticFunction=None, begin=61, end=67, type='de.tudarmstadt.ukp.dkpro.core.api.segmentation.type.Token'),\n",
       " de_tudarmstadt_ukp_dkpro_core_api_segmentation_type_Token(xmiID=16, parent=None, lemma=None, stem=None, pos=de_tudarmstadt_ukp_dkpro_core_api_lexmorph_type_pos_POS_ADP(xmiID=97, begin=68, end=71, PosValue='IN', coarseValue='ADP', type='de.tudarmstadt.ukp.dkpro.core.api.lexmorph.type.pos.POS_ADP'), morph=None, id=None, form=None, syntacticFunction=None, begin=68, end=71, type='de.tudarmstadt.ukp.dkpro.core.api.segmentation.type.Token'),\n",
       " de_tudarmstadt_ukp_dkpro_core_api_segmentation_type_Token(xmiID=17, parent=None, lemma=None, stem=None, pos=de_tudarmstadt_ukp_dkpro_core_api_lexmorph_type_pos_POS_ADV(xmiID=98, begin=72, end=77, PosValue='RB', coarseValue='ADV', type='de.tudarmstadt.ukp.dkpro.core.api.lexmorph.type.pos.POS_ADV'), morph=None, id=None, form=None, syntacticFunction=None, begin=72, end=77, type='de.tudarmstadt.ukp.dkpro.core.api.segmentation.type.Token'),\n",
       " de_tudarmstadt_ukp_dkpro_core_api_segmentation_type_Token(xmiID=18, parent=None, lemma=None, stem=None, pos=de_tudarmstadt_ukp_dkpro_core_api_lexmorph_type_pos_POS_NUM(xmiID=99, begin=78, end=79, PosValue='CD', coarseValue='NUM', type='de.tudarmstadt.ukp.dkpro.core.api.lexmorph.type.pos.POS_NUM'), morph=None, id=None, form=None, syntacticFunction=None, begin=78, end=79, type='de.tudarmstadt.ukp.dkpro.core.api.segmentation.type.Token'),\n",
       " de_tudarmstadt_ukp_dkpro_core_api_segmentation_type_Token(xmiID=19, parent=None, lemma=None, stem=None, pos=de_tudarmstadt_ukp_dkpro_core_api_lexmorph_type_pos_POS_NOUN(xmiID=100, begin=80, end=85, PosValue='NNS', coarseValue='NOUN', type='de.tudarmstadt.ukp.dkpro.core.api.lexmorph.type.pos.POS_NOUN'), morph=None, id=None, form=None, syntacticFunction=None, begin=80, end=85, type='de.tudarmstadt.ukp.dkpro.core.api.segmentation.type.Token'),\n",
       " de_tudarmstadt_ukp_dkpro_core_api_segmentation_type_Token(xmiID=20, parent=None, lemma=None, stem=None, pos=de_tudarmstadt_ukp_dkpro_core_api_lexmorph_type_pos_POS_PUNCT(xmiID=101, begin=86, end=87, PosValue='.', coarseValue='PUNCT', type='de.tudarmstadt.ukp.dkpro.core.api.lexmorph.type.pos.POS_PUNCT'), morph=None, id=None, form=None, syntacticFunction=None, begin=86, end=87, type='de.tudarmstadt.ukp.dkpro.core.api.segmentation.type.Token')]"
      ]
     },
     "execution_count": 4,
     "metadata": {},
     "output_type": "execute_result"
    }
   ],
   "source": [
    "tokens = list(cas.select(TOKEN_TYPE))\n",
    "words = [cas.get_covered_text(token) for token in tokens]\n",
    "tokens"
   ]
  },
  {
   "cell_type": "code",
   "execution_count": 5,
   "metadata": {
    "scrolled": false
   },
   "outputs": [
    {
     "name": "stdout",
     "output_type": "stream",
     "text": [
      "2020-06-15 09:38:28,005 loading file /home/allan/snap/jupyter/6/.flair/models/en-ner-conll03-v0.4.pt\n"
     ]
    },
    {
     "data": {
      "text/plain": [
       "[Sentence: \"Courtney de Souza has been living with her daughter Susan in Berlin for about 6 years .\"   [− Tokens: 17  − Token-Labels: \"Courtney <B-PER> de <I-PER> Souza <E-PER> has been living with her daughter Susan <S-PER> in Berlin <S-LOC> for about 6 years .\"]]"
      ]
     },
     "execution_count": 5,
     "metadata": {},
     "output_type": "execute_result"
    }
   ],
   "source": [
    "sentence = ''\n",
    "for word in words:\n",
    "    sentence += word + ' '\n",
    "\n",
    "sentence = Sentence(sentence)\n",
    "model_name = 'ner'\n",
    "nlp = SequenceTagger.load(model_name)\n",
    "\n",
    "nlp.predict(sentence)"
   ]
  },
  {
   "cell_type": "markdown",
   "metadata": {},
   "source": [
    "### #testing start"
   ]
  },
  {
   "cell_type": "code",
   "execution_count": 6,
   "metadata": {},
   "outputs": [],
   "source": [
    "NERType = typesystem.create_type(\"webanno.custom.flair-ner\")\n",
    "typesystem.add_feature(type_=NERType, name='ner', rangeTypeName='uima.cas.String')"
   ]
  },
  {
   "cell_type": "code",
   "execution_count": 12,
   "metadata": {},
   "outputs": [],
   "source": [
    "begin = 0\n",
    "for sent in range(len(sentence)):\n",
    "    token = sentence[sent]\n",
    "    word = str(token).split()\n",
    "    tag = sentence[sent].get_tag('ner')\n",
    "    end = begin + len(word)\n",
    "    cas_sentence = AnnotationType(begin = tokens[sent].begin, \n",
    "                                  end = tokens[sent].end)\n",
    "    ner_annotation = NERType(begin = tokens[sent].begin,\n",
    "                      end = tokens[sent].end,\n",
    "                      ner = tag.value)\n",
    "    cas.add_annotation(cas_sentence)\n",
    "    cas.add_annotation(ner_annotation)\n",
    "    begin = end + 1\n",
    "xmi = cas.to_xmi('./newCas.xmi', pretty_print=True)"
   ]
  },
  {
   "cell_type": "markdown",
   "metadata": {},
   "source": [
    "### #testing end"
   ]
  }
 ],
 "metadata": {
  "kernelspec": {
   "display_name": "Python 3",
   "language": "python",
   "name": "python3"
  },
  "language_info": {
   "codemirror_mode": {
    "name": "ipython",
    "version": 3
   },
   "file_extension": ".py",
   "mimetype": "text/x-python",
   "name": "python",
   "nbconvert_exporter": "python",
   "pygments_lexer": "ipython3",
   "version": "3.7.3"
  }
 },
 "nbformat": 4,
 "nbformat_minor": 4
}
