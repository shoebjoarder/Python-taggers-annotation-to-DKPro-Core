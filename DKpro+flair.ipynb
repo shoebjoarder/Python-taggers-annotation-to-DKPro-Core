{
 "cells": [
  {
   "cell_type": "code",
   "execution_count": 8,
   "metadata": {},
   "outputs": [],
   "source": [
    "# Import libraries\n",
    "from flair.data import Sentence\n",
    "from flair.models import SequenceTagger\n",
    "from cassis import *"
   ]
  },
  {
   "cell_type": "code",
   "execution_count": 11,
   "metadata": {},
   "outputs": [],
   "source": [
    "tsfile = 'ts1.xml'\n",
    "csfile = './output1.xmi/document.txt.xmi'\n",
    "\n",
    "TOKEN_TYPE = \"de.tudarmstadt.ukp.dkpro.core.api.segmentation.type.Token\"\n",
    "SENTENCE_TYPE = \"de.tudarmstadt.ukp.dkpro.core.api.segmentation.type.Sentence\"\n",
    "\n",
    "# Load Typesystem\n",
    "with open(tsfile, 'rb') as f:\n",
    "    typesystem = load_typesystem(f)\n",
    "\n",
    "# Load Cas\n",
    "with open(csfile, 'rb') as f:\n",
    "    cas = load_cas_from_xmi(f, typesystem=typesystem)"
   ]
  },
  {
   "cell_type": "code",
   "execution_count": 12,
   "metadata": {},
   "outputs": [],
   "source": [
    "# Get annotation type\n",
    "AnnotationType = typesystem.get_type(TOKEN_TYPE)"
   ]
  },
  {
   "cell_type": "code",
   "execution_count": 13,
   "metadata": {
    "scrolled": true
   },
   "outputs": [
    {
     "name": "stderr",
     "output_type": "stream",
     "text": [
      "/snap/jupyter/6/lib/python3.7/site-packages/ipykernel_launcher.py:2: DeprecatedWarning: get_covered_text is deprecated. Use annotation.get_covered_text()\n",
      "  \n"
     ]
    }
   ],
   "source": [
    "tokens = list(cas.select(TOKEN_TYPE))\n",
    "words = [cas.get_covered_text(token) for token in tokens]\n",
    "# tokens"
   ]
  },
  {
   "cell_type": "code",
   "execution_count": 14,
   "metadata": {
    "scrolled": false
   },
   "outputs": [
    {
     "name": "stdout",
     "output_type": "stream",
     "text": [
      "2020-06-15 15:25:15,345 loading file /home/allan/snap/jupyter/6/.flair/models/en-ner-conll03-v0.4.pt\n"
     ]
    },
    {
     "data": {
      "text/plain": [
       "[Sentence: \"Courtney de Souza has been living with her daughter Susan in Berlin for about 6 years .\"   [− Tokens: 17  − Token-Labels: \"Courtney <B-PER> de <I-PER> Souza <E-PER> has been living with her daughter Susan <S-PER> in Berlin <S-LOC> for about 6 years .\"]]"
      ]
     },
     "execution_count": 14,
     "metadata": {},
     "output_type": "execute_result"
    }
   ],
   "source": [
    "sentence = ''\n",
    "for word in words:\n",
    "    sentence += word + ' '\n",
    "\n",
    "sentence = Sentence(sentence)\n",
    "model_name = 'ner'\n",
    "nlp = SequenceTagger.load(model_name)\n",
    "\n",
    "nlp.predict(sentence)"
   ]
  },
  {
   "cell_type": "markdown",
   "metadata": {},
   "source": [
    "### #testing start"
   ]
  },
  {
   "cell_type": "code",
   "execution_count": 15,
   "metadata": {},
   "outputs": [],
   "source": [
    "NERType = typesystem.create_type(\"webanno.custom.flair-ner\")\n",
    "typesystem.add_feature(type_=NERType, name='ner', rangeTypeName='uima.cas.String')"
   ]
  },
  {
   "cell_type": "code",
   "execution_count": 16,
   "metadata": {},
   "outputs": [],
   "source": [
    "# begin = 0\n",
    "for sent in range(len(sentence)):\n",
    "    token = sentence[sent]\n",
    "    word = str(token).split()\n",
    "    tag = sentence[sent].get_tag('ner')\n",
    "#     end = begin + len(word)\n",
    "    cas_sentence = AnnotationType(begin = tokens[sent].begin, \n",
    "                                  end = tokens[sent].end)\n",
    "    ner_annotation = NERType(begin = tokens[sent].begin,\n",
    "                             end = tokens[sent].end,\n",
    "                             ner = tag.value)\n",
    "    cas.add_annotation(cas_sentence)\n",
    "    cas.add_annotation(ner_annotation)\n",
    "#     begin = end + 1\n",
    "xmi = cas.to_xmi('./output2.xmi', pretty_print=True)"
   ]
  },
  {
   "cell_type": "markdown",
   "metadata": {},
   "source": [
    "### #testing end"
   ]
  }
 ],
 "metadata": {
  "kernelspec": {
   "display_name": "Python 3",
   "language": "python",
   "name": "python3"
  },
  "language_info": {
   "codemirror_mode": {
    "name": "ipython",
    "version": 3
   },
   "file_extension": ".py",
   "mimetype": "text/x-python",
   "name": "python",
   "nbconvert_exporter": "python",
   "pygments_lexer": "ipython3",
   "version": "3.7.3"
  }
 },
 "nbformat": 4,
 "nbformat_minor": 4
}
