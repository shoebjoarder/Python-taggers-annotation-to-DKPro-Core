{
 "metadata": {
  "language_info": {
   "codemirror_mode": {
    "name": "ipython",
    "version": 3
   },
   "file_extension": ".py",
   "mimetype": "text/x-python",
   "name": "python",
   "nbconvert_exporter": "python",
   "pygments_lexer": "ipython3",
   "version": 3
  },
  "orig_nbformat": 2,
  "kernelspec": {
   "name": "python_defaultSpec_1597149710632",
   "display_name": "Python 3.8.3 64-bit"
  }
 },
 "nbformat": 4,
 "nbformat_minor": 2,
 "cells": [
  {
   "cell_type": "markdown",
   "metadata": {},
   "source": [
    "# PoC of FlairNLP Named Entity Recognition integration with DKPro\n",
    "\n",
    "[DKPro](https://dkpro.github.io/dkpro-core/info/) is:\n",
    "\n",
    "> A DKPro Core addresses tasks that are commonly referred to as linguistic pre-processing, e.g. part-of-speech taggers, parsers, etc. Within DKPro Core, a steadily growing set of third-party tools for such tasks have been wrapped into interoperable and interchangeable components for the Apache UIMA framework.\n",
    "\n",
    "[Flair](https://github.com/flairNLP/flair) is:\n",
    "\n",
    "> A powerful NLP library. Flair allows you to apply our state-of-the-art natural language processing (NLP) models to your text, such as named entity recognition (NER), part-of-speech tagging (PoS), sense disambiguation and classification.\n",
    "\n",
    "DKPro Core is Java based and it integrates taggers e.g. StanfordNLP, OpenNLP etc., where as the Flair is Python based state-of-the-art NLP model. This PoC shows the process of connecting the Java based DKPro Core and Python based Flair together using a middleware DKPro-Cassis.\n",
    "\n",
    "[DKPro-Cassis](https://github.com/dkpro/dkpro-cassis) provides:\n",
    "> A pure-Python implementation of the Common Analysis System (CAS) as defined by the UIMA framework. The CAS is a data structure representing an object to be enriched with annotations (the so-called Subject of Analysis, short SofA)."
   ]
  },
  {
   "cell_type": "code",
   "execution_count": 1,
   "metadata": {
    "tags": []
   },
   "outputs": [
    {
     "output_type": "stream",
     "name": "stdout",
     "text": "CPython 3.8.3\nIPython 7.17.0\n\nflair 0.5.1\ntorch 1.6.0\n"
    }
   ],
   "source": [
    "%reload_ext watermark\n",
    "%watermark -v -p flair,torch"
   ]
  },
  {
   "cell_type": "markdown",
   "metadata": {},
   "source": [
    "> In order to use this notebook, the following libraries are needed to be installed. It is advised to create a Python virtual environment and install the required libraries"
   ]
  },
  {
   "cell_type": "code",
   "execution_count": 2,
   "metadata": {},
   "outputs": [],
   "source": [
    "\n",
    "from flair.data import Sentence\n",
    "from flair.models import SequenceTagger\n",
    "from cassis import *"
   ]
  },
  {
   "cell_type": "markdown",
   "metadata": {},
   "source": [
    "> The TypeSystem and CAS Object is generated from the DKPro Core Java file. This CAS Object file consists of the output of OpenNLPSegmenter. The file has begin and end for each tokens. The generated files are manually loaded in the notebook."
   ]
  },
  {
   "cell_type": "code",
   "execution_count": 3,
   "metadata": {},
   "outputs": [],
   "source": [
    "typeSystemFile = './data/TypeSystem.xml'\n",
    "casFile = './data/output_OpenNlpSegmenter.xmi'\n",
    "\n",
    "segmenter = \"de.tudarmstadt.ukp.dkpro.core.api.segmentation.type.Token\"\n",
    "\n",
    "# Load Typesystem\n",
    "with open(typeSystemFile, 'rb') as f:\n",
    "    typesystem = load_typesystem(f)\n",
    "\n",
    "# Load Cas\n",
    "with open(casFile, 'rb') as f:\n",
    "    cas = load_cas_from_xmi(f, typesystem=typesystem)"
   ]
  },
  {
   "cell_type": "markdown",
   "metadata": {},
   "source": [
    "> The CAS Object has the following document. This document can be found as the value of \"sofa_string\"."
   ]
  },
  {
   "cell_type": "code",
   "execution_count": 4,
   "metadata": {
    "tags": []
   },
   "outputs": [
    {
     "output_type": "stream",
     "name": "stdout",
     "text": "Obama was born in Honolulu, Hawaii, making him the first president not born in North America .\nAfter graduating from Columbia University in 1983, he worked as a community organizer in Chicago .\nIn 1988, he enrolled in Harvard Law School, where he was the first black person to head the Harvard Law Review .\nAfter graduating, he became a civil rights attorney and an academic, teaching constitutional law at the University of Chicago Law School from 1992 to 2004 .\nTurning to elective politics, he represented the 13th district from 1997 until 2004 in the Illinois Senate, when he ran for the U.S. Senate. Obama received national attention in 2004 with his March Senate primary win, his well-received July Democratic National Convention keynote address, and his landslide November election to the Senate .\nIn 2008, he was nominated for president a year after his presidential campaign began, and after close primary campaigns against Hillary Clinton .\nObama was elected over Republican John McCain and was inaugurated alongside Joe Biden on January 20, 2009 .\nNine months later, he was named the 2009 Nobel Peace Prize laureate .\n\n"
    }
   ],
   "source": [
    "text = cas.sofa_string\n",
    "print(text)"
   ]
  },
  {
   "cell_type": "markdown",
   "metadata": {},
   "source": [
    "> After we have loaded the CAS Object, we can display the top five tokens in the document."
   ]
  },
  {
   "cell_type": "code",
   "execution_count": 5,
   "metadata": {
    "tags": []
   },
   "outputs": [
    {
     "output_type": "stream",
     "name": "stdout",
     "text": "Token: begin: 0 \t end: 5\nToken: begin: 6 \t end: 9\nToken: begin: 10 \t end: 14\nToken: begin: 15 \t end: 17\nToken: begin: 18 \t end: 26\n"
    }
   ],
   "source": [
    "i = 0\n",
    "for token in cas.select(segmenter):\n",
    "    print('Token: begin: {0} \\t end: {1}'.format(token.begin, token.end))\n",
    "    i=i+1\n",
    "    if i == 5:\n",
    "        break"
   ]
  },
  {
   "cell_type": "markdown",
   "metadata": {},
   "source": [
    "> The Flair Named Entity Recognizer model is loaded. The document is passed to the FLair NER model to predict the NER-tags."
   ]
  },
  {
   "cell_type": "code",
   "execution_count": 6,
   "metadata": {
    "tags": []
   },
   "outputs": [
    {
     "output_type": "stream",
     "name": "stdout",
     "text": "2020-08-11 19:09:09,458 loading file C:\\Users\\shoeb\\.flair\\models\\en-ner-conll03-v0.4.pt\n"
    }
   ],
   "source": [
    "model_name = 'ner'\n",
    "text = Sentence(text)\n",
    "nlp = SequenceTagger.load(model_name)\n",
    "nlp.predict(text)"
   ]
  },
  {
   "cell_type": "markdown",
   "metadata": {},
   "source": [
    "> Flair has a built-in function to get the span of the document. This function can display the list of all the NER-Tags and the token number."
   ]
  },
  {
   "cell_type": "code",
   "execution_count": 7,
   "metadata": {
    "tags": []
   },
   "outputs": [
    {
     "output_type": "stream",
     "name": "stdout",
     "text": "Span [1]: \"Obama\"   [− Labels: PER (0.9999)]\nSpan [5,6]: \"Honolulu, Hawaii,\"   [− Labels: LOC (0.9612)]\nSpan [15,16]: \"North America\"   [− Labels: LOC (0.9993)]\nSpan [20,21]: \"Columbia University\"   [− Labels: ORG (0.9741)]\nSpan [31]: \"Chicago\"   [− Labels: LOC (1.0)]\nSpan [37,38,39]: \"Harvard Law School,\"   [− Labels: LOC (0.8647)]\nSpan [50,51,52]: \"Harvard Law Review\"   [− Labels: ORG (0.9719)]\nSpan [69,70,71,72,73]: \"University of Chicago Law School\"   [− Labels: ORG (0.8778)]\nSpan [93,94]: \"Illinois Senate,\"   [− Labels: LOC (0.6874)]\nSpan [100]: \"U.S.\"   [− Labels: LOC (0.9976)]\nSpan [102]: \"Obama\"   [− Labels: PER (0.9999)]\nSpan [111]: \"Senate\"   [− Labels: ORG (1.0)]\nSpan [117,118,119]: \"Democratic National Convention\"   [− Labels: MISC (0.8716)]\nSpan [129]: \"Senate\"   [− Labels: ORG (1.0)]\nSpan [150,151]: \"Hillary Clinton\"   [− Labels: PER (0.9871)]\nSpan [156]: \"Republican\"   [− Labels: MISC (1.0)]\nSpan [157,158]: \"John McCain\"   [− Labels: PER (0.9913)]\nSpan [163,164]: \"Joe Biden\"   [− Labels: PER (0.9993)]\nSpan [177,178,179]: \"Nobel Peace Prize\"   [− Labels: MISC (0.9944)]\n"
    }
   ],
   "source": [
    "for entity in text.get_spans('ner'):\n",
    "    print(entity)"
   ]
  },
  {
   "cell_type": "markdown",
   "metadata": {},
   "source": [
    "> The TypeSystem of the DKPro Cores Named Entity Recognizer is to put the values of NER-Tags from Flair NER. Flair NER doesn't have a rich set of NER-Tags. Therefore, the tags are mapped according to the DKPro Core NER tags"
   ]
  },
  {
   "cell_type": "code",
   "execution_count": 8,
   "metadata": {},
   "outputs": [],
   "source": [
    "NERType = cas.typesystem.get_type(\"de.tudarmstadt.ukp.dkpro.core.api.ner.type.NamedEntity\")\n",
    "\n",
    "for span in text.get_spans('ner'):\n",
    "    if span.tag == 'PER':\n",
    "        val = 'person'\n",
    "    if span.tag == 'LOC':\n",
    "        val = 'location'\n",
    "    if span.tag == 'ORG':\n",
    "        val = \"organization\"\n",
    "    if span.tag == 'MISC':\n",
    "        val = \"miscellaneous\"\n",
    "    ner_annotation = NERType(begin=span.start_pos,\n",
    "                             end=span.end_pos,\n",
    "                             value=val)\n",
    "    cas.add_annotation(ner_annotation)"
   ]
  },
  {
   "cell_type": "markdown",
   "metadata": {},
   "source": [
    "> The NER-Tags are annotated in the new CAS object. The new CAS object consists of the Segmenter annotations as well as the NER annotations from Flair NER. Below is the list of all the NER tokens."
   ]
  },
  {
   "cell_type": "code",
   "execution_count": 9,
   "metadata": {
    "tags": []
   },
   "outputs": [
    {
     "output_type": "stream",
     "name": "stdout",
     "text": "Token: begin: 0 \t end: 5 \t NER-tag: person\nToken: begin: 18 \t end: 35 \t NER-tag: location\nToken: begin: 79 \t end: 92 \t NER-tag: location\nToken: begin: 117 \t end: 136 \t NER-tag: organization\nToken: begin: 184 \t end: 191 \t NER-tag: location\nToken: begin: 218 \t end: 237 \t NER-tag: location\nToken: begin: 286 \t end: 304 \t NER-tag: organization\nToken: begin: 411 \t end: 443 \t NER-tag: organization\nToken: begin: 555 \t end: 571 \t NER-tag: location\nToken: begin: 592 \t end: 596 \t NER-tag: location\nToken: begin: 605 \t end: 610 \t NER-tag: person\nToken: begin: 662 \t end: 668 \t NER-tag: organization\nToken: begin: 705 \t end: 735 \t NER-tag: miscellaneous\nToken: begin: 796 \t end: 802 \t NER-tag: organization\nToken: begin: 933 \t end: 948 \t NER-tag: person\nToken: begin: 974 \t end: 984 \t NER-tag: miscellaneous\nToken: begin: 985 \t end: 996 \t NER-tag: person\nToken: begin: 1027 \t end: 1036 \t NER-tag: person\nToken: begin: 1100 \t end: 1117 \t NER-tag: miscellaneous\n"
    }
   ],
   "source": [
    "for token in cas.select(\"de.tudarmstadt.ukp.dkpro.core.api.ner.type.NamedEntity\"):\n",
    "    print('Token: begin: {0} \\t end: {1} \\t NER-tag: {2}'.format(token.begin, token.end, token.value))"
   ]
  },
  {
   "cell_type": "markdown",
   "metadata": {},
   "source": [
    "> The new CAS Object is outputted for the second component of the DKPro Core."
   ]
  },
  {
   "cell_type": "code",
   "execution_count": 10,
   "metadata": {},
   "outputs": [],
   "source": [
    "cas.to_xmi('./data/output_FlairNER.xmi', pretty_print=True)"
   ]
  },
  {
   "cell_type": "markdown",
   "metadata": {},
   "source": [
    "> The second component of the DKPro Core is the OpenNLP POS-Tagger. The component uses the CAS Object generated from the Flair NER and outputs a new CAS Object."
   ]
  },
  {
   "cell_type": "code",
   "execution_count": 11,
   "metadata": {},
   "outputs": [],
   "source": [
    "casFile = './data/output_OpenNlpPosTagger.xmi'\n",
    "PosTagger = \"de.tudarmstadt.ukp.dkpro.core.api.lexmorph.type.pos.POS\"\n",
    "\n",
    "# Load CAS\n",
    "with open(casFile, 'rb') as f:\n",
    "    cas = load_cas_from_xmi(f, typesystem=typesystem)"
   ]
  },
  {
   "cell_type": "markdown",
   "metadata": {},
   "source": [
    "> The newest CAS Object from the OpenNLP POS-Tagger from DKPro Core is loaded and the top 10 POS-Tags with NNP are displayed"
   ]
  },
  {
   "cell_type": "code",
   "execution_count": 12,
   "metadata": {
    "tags": []
   },
   "outputs": [
    {
     "output_type": "stream",
     "name": "stdout",
     "text": "Token: begin: 0 \t end: 5 \t POS-tag: NNP\nToken: begin: 0 \t end: 5 \t POS-tag: NNP\nToken: begin: 18 \t end: 26 \t POS-tag: NNP\nToken: begin: 18 \t end: 35 \t POS-tag: NNP\nToken: begin: 28 \t end: 34 \t POS-tag: NNP\nToken: begin: 79 \t end: 84 \t POS-tag: NNP\nToken: begin: 79 \t end: 92 \t POS-tag: NNP\nToken: begin: 85 \t end: 92 \t POS-tag: NNP\nToken: begin: 117 \t end: 125 \t POS-tag: NNP\nToken: begin: 117 \t end: 136 \t POS-tag: NNP\n"
    }
   ],
   "source": [
    "i = 0\n",
    "for token in cas.select(PosTagger):\n",
    "    if token.PosValue == 'NNP':\n",
    "        print('Token: begin: {0} \\t end: {1} \\t POS-tag: {2}'.format(token.begin, token.end, token.PosValue))\n",
    "        i=i+1\n",
    "        if i == 10:\n",
    "            break"
   ]
  }
 ]
}