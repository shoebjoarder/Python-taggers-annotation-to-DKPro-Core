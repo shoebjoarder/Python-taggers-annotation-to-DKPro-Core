{
 "cells": [
  {
   "cell_type": "code",
   "execution_count": 1,
   "metadata": {},
   "outputs": [],
   "source": [
    "# Import libraries\n",
    "from flair.data import Sentence\n",
    "from flair.models import SequenceTagger\n",
    "from cassis import *"
   ]
  },
  {
   "cell_type": "markdown",
   "metadata": {},
   "source": [
    "### Method 1: A text file as input"
   ]
  },
  {
   "cell_type": "code",
   "execution_count": 2,
   "metadata": {},
   "outputs": [],
   "source": [
    "def importData(file):\n",
    "    with open(file, 'r', encoding='utf-8') as file:\n",
    "        document = file.read().replace('\\n', ' ')\n",
    "    return document"
   ]
  },
  {
   "cell_type": "code",
   "execution_count": 3,
   "metadata": {},
   "outputs": [],
   "source": [
    "def casFlair(docu):\n",
    "    document = importData(docu)\n",
    "    model_name = 'ner'\n",
    "    sentence = Sentence(document)\n",
    "    nlp = SequenceTagger.load(model_name)\n",
    "    nlp.predict(sentence)\n",
    "    cas = Cas(typesystem=load_dkpro_core_typesystem())\n",
    "    NERType = cas.typesystem.get_type(\n",
    "        \"de.tudarmstadt.ukp.dkpro.core.api.ner.type.NamedEntity\")\n",
    "    cas.sofa_string = document\n",
    "    cas.sofa_mime = \"text\"\n",
    "    for span in sentence.get_spans('ner'):\n",
    "        if span.tag == 'PER':\n",
    "            val = 'person'\n",
    "        if span.tag == 'LOC':\n",
    "            val = 'location'\n",
    "        if span.tag == 'ORG':\n",
    "            val = \"organization\"\n",
    "        if span.tag == 'MISC':\n",
    "            val = \"miscellaneous\"\n",
    "        ner_annotation = NERType(begin=span.start_pos,\n",
    "                                    end=span.end_pos,\n",
    "                                    value=val)\n",
    "        cas.add_annotation(ner_annotation)\n",
    "        cas.to_xmi('./flairNER.xmi', pretty_print=True)\n",
    "        with open('flairNER.xmi', 'r') as file:\n",
    "            flairXMI = file.read()\n",
    "    return flairXMI\n",
    "    #return cas"
   ]
  },
  {
   "cell_type": "code",
   "execution_count": 5,
   "metadata": {
    "tags": []
   },
   "outputs": [
    {
     "output_type": "stream",
     "name": "stdout",
     "text": "Token: begin: 0 \t end: 5 \t NER-tag: person\nToken: begin: 18 \t end: 34 \t NER-tag: location\n"
    }
   ],
   "source": [
    "NER_TYPE = \"de.tudarmstadt.ukp.dkpro.core.api.ner.type.NamedEntity\"\n",
    "\n",
    "for token in ner.select(NER_TYPE):\n",
    "    # Annotation values can be accessed as properties\n",
    "    print('Token: begin: {0} \\t end: {1} \\t NER-tag: {2}'.format(token.begin, token.end, token.value))"
   ]
  },
  {
   "cell_type": "code",
   "execution_count": 10,
   "metadata": {},
   "outputs": [],
   "source": [
    "with open('flairNLP.xmi', 'r') as file:\n",
    "    flairXMI = file.read()\n",
    "print(flairXMI)"
   ]
  },
  {
   "cell_type": "code",
   "execution_count": 4,
   "metadata": {
    "tags": []
   },
   "outputs": [
    {
     "output_type": "stream",
     "name": "stdout",
     "text": "2020-07-02 09:33:00,976 loading file C:\\Users\\shoeb\\.flair\\models\\en-ner-conll03-v0.4.pt\n"
    }
   ],
   "source": [
    "# Run the function\n",
    "ner = casFlair(document)"
   ]
  },
  {
   "cell_type": "code",
   "execution_count": null,
   "metadata": {},
   "outputs": [],
   "source": []
  }
 ],
 "metadata": {
  "kernelspec": {
   "display_name": "Python 3.7.7 32-bit",
   "language": "python",
   "name": "python_defaultSpec_1593671465007"
  },
  "language_info": {
   "codemirror_mode": {
    "name": "ipython",
    "version": 3
   },
   "file_extension": ".py",
   "mimetype": "text/x-python",
   "name": "python",
   "nbconvert_exporter": "python",
   "pygments_lexer": "ipython3",
   "version": "3.6.9"
  }
 },
 "nbformat": 4,
 "nbformat_minor": 4
}