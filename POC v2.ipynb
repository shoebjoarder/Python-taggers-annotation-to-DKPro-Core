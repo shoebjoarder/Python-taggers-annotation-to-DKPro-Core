{
 "cells": [
  {
   "cell_type": "code",
   "execution_count": 1,
   "metadata": {},
   "outputs": [],
   "source": [
    "# Import libraries\n",
    "from flair.data import Sentence\n",
    "from flair.models import SequenceTagger\n",
    "from cassis import *"
   ]
  },
  {
   "cell_type": "code",
   "execution_count": 2,
   "metadata": {},
   "outputs": [],
   "source": [
    "file = 'document.txt'\n",
    "\n",
    "with open(file, 'r') as file:\n",
    "    document = file.read().replace('\\n', ' ')"
   ]
  },
  {
   "cell_type": "code",
   "execution_count": 3,
   "metadata": {},
   "outputs": [],
   "source": [
    "def ner_flair(document):\n",
    "    model_name = 'ner'\n",
    "    sentence = Sentence(document)\n",
    "    nlp = SequenceTagger.load(model_name)\n",
    "    nlp.predict(sentence)\n",
    "    cas = Cas(typesystem=load_dkpro_core_typesystem())\n",
    "    NERType = cas.typesystem.get_type(\"de.tudarmstadt.ukp.dkpro.core.api.ner.type.NamedEntity\")\n",
    "    i = 0\n",
    "    for span in sentence.get_spans('ner'):\n",
    "        if span.tag == 'PER':\n",
    "            val = 'person'\n",
    "        if span.tag == 'LOC':\n",
    "            val = 'location'\n",
    "        if span.tag == 'ORG':\n",
    "            val = \"organization\"\n",
    "        if span.tag == 'MISC':\n",
    "            val = \"miscellaneous\"\n",
    "        ner_annotation = NERType(begin = span.start_pos,\n",
    "                                 end = span.end_pos,\n",
    "                                 value = val)\n",
    "        cas.add_annotation(ner_annotation)\n",
    "        i=i+1\n",
    "    return cas"
   ]
  },
  {
   "cell_type": "code",
   "execution_count": 4,
   "metadata": {},
   "outputs": [
    {
     "name": "stdout",
     "output_type": "stream",
     "text": [
      "2020-06-27 16:58:02,482 loading file /home/allan/.flair/models/en-ner-conll03-v0.4.pt\n"
     ]
    }
   ],
   "source": [
    "ner = ner_flair(document)\n",
    "\n",
    "# Save CAS to xmi file\n",
    "#ner.to_xmi('./flairNLP.xmi', pretty_print=True)\n",
    "# tokens = list(ner.select(\"de.tudarmstadt.ukp.dkpro.core.api.ner.type.NamedEntity\"))\n",
    "# tokens[:4]"
   ]
  },
  {
   "cell_type": "code",
   "execution_count": 5,
   "metadata": {},
   "outputs": [
    {
     "name": "stdout",
     "output_type": "stream",
     "text": [
      "Token: begin: 0 \t end: 5 \t NER-tag: person\n",
      "Token: begin: 18 \t end: 35 \t NER-tag: location\n",
      "Token: begin: 79 \t end: 92 \t NER-tag: location\n",
      "Token: begin: 117 \t end: 136 \t NER-tag: organization\n",
      "Token: begin: 184 \t end: 191 \t NER-tag: location\n",
      "Token: begin: 218 \t end: 237 \t NER-tag: location\n",
      "Token: begin: 286 \t end: 304 \t NER-tag: organization\n",
      "Token: begin: 411 \t end: 443 \t NER-tag: organization\n",
      "Token: begin: 555 \t end: 571 \t NER-tag: location\n",
      "Token: begin: 592 \t end: 596 \t NER-tag: location\n",
      "Token: begin: 605 \t end: 610 \t NER-tag: person\n",
      "Token: begin: 662 \t end: 668 \t NER-tag: organization\n",
      "Token: begin: 705 \t end: 735 \t NER-tag: miscellaneous\n",
      "Token: begin: 796 \t end: 802 \t NER-tag: organization\n",
      "Token: begin: 933 \t end: 948 \t NER-tag: person\n",
      "Token: begin: 951 \t end: 956 \t NER-tag: person\n",
      "Token: begin: 974 \t end: 984 \t NER-tag: miscellaneous\n",
      "Token: begin: 985 \t end: 996 \t NER-tag: person\n",
      "Token: begin: 1027 \t end: 1036 \t NER-tag: person\n",
      "Token: begin: 1100 \t end: 1117 \t NER-tag: miscellaneous\n"
     ]
    }
   ],
   "source": [
    "NER_TYPE = \"de.tudarmstadt.ukp.dkpro.core.api.ner.type.NamedEntity\"\n",
    "\n",
    "for token in ner.select(NER_TYPE):\n",
    "    # Annotation values can be accessed as properties\n",
    "    print('Token: begin: {0} \\t end: {1} \\t NER-tag: {2}'.format(token.begin, token.end, token.value))"
   ]
  },
  {
   "cell_type": "code",
   "execution_count": null,
   "metadata": {},
   "outputs": [],
   "source": []
  }
 ],
 "metadata": {
  "kernelspec": {
   "display_name": "Python 3.6.9 64-bit",
   "language": "python",
   "name": "python36964bit7f4e63aab81442c0ba02784eb8fd1287"
  },
  "language_info": {
   "codemirror_mode": {
    "name": "ipython",
    "version": 3
   },
   "file_extension": ".py",
   "mimetype": "text/x-python",
   "name": "python",
   "nbconvert_exporter": "python",
   "pygments_lexer": "ipython3",
   "version": "3.6.9"
  }
 },
 "nbformat": 4,
 "nbformat_minor": 4
}
